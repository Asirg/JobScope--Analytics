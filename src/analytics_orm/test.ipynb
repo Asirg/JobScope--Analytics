{
 "cells": [
  {
   "cell_type": "code",
   "execution_count": 1,
   "id": "ebf81af3",
   "metadata": {},
   "outputs": [],
   "source": [
    "import sys\n",
    "import os\n",
    "\n",
    "sys.path.insert(1, os.path.abspath(os.path.join(os.getcwd(), \"..\", \"..\")))\n",
    "\n",
    "from sqlalchemy import select\n",
    "\n",
    "from src.database import async_session\n",
    "\n",
    "from src.models.vacancies import Sources"
   ]
  },
  {
   "cell_type": "code",
   "execution_count": 9,
   "id": "597ddb0d",
   "metadata": {},
   "outputs": [
    {
     "name": "stdout",
     "output_type": "stream",
     "text": [
      "2025-08-07 21:22:53,568 INFO sqlalchemy.engine.Engine select pg_catalog.version()\n",
      "2025-08-07 21:22:53,569 INFO sqlalchemy.engine.Engine [raw sql] ()\n",
      "2025-08-07 21:22:53,577 INFO sqlalchemy.engine.Engine select current_schema()\n",
      "2025-08-07 21:22:53,578 INFO sqlalchemy.engine.Engine [raw sql] ()\n",
      "2025-08-07 21:22:53,584 INFO sqlalchemy.engine.Engine show standard_conforming_strings\n",
      "2025-08-07 21:22:53,586 INFO sqlalchemy.engine.Engine [raw sql] ()\n",
      "2025-08-07 21:22:53,590 INFO sqlalchemy.engine.Engine BEGIN (implicit)\n",
      "2025-08-07 21:22:53,595 INFO sqlalchemy.engine.Engine SELECT sources.source_id, sources.name, sources.link, sources.created_at, sources.updated_at \n",
      "FROM sources\n",
      "2025-08-07 21:22:53,596 INFO sqlalchemy.engine.Engine [generated in 0.00120s] ()\n",
      "2025-08-07 21:22:53,602 INFO sqlalchemy.engine.Engine ROLLBACK\n"
     ]
    }
   ],
   "source": [
    "async with async_session() as session:\n",
    "    q = select(Sources)\n",
    "    res = await session.execute(q)\n",
    "    res = res.scalars().all()"
   ]
  },
  {
   "cell_type": "code",
   "execution_count": 11,
   "id": "bb376979",
   "metadata": {},
   "outputs": [
    {
     "data": {
      "text/plain": [
       "[<Sources source_id=1,name=dou.ua,link=https://dou.ua/,created_at=2025-08-07 18:03:50.735826,updated_at=2025-08-07 18:03:50.735826>,\n",
       " <Sources source_id=2,name=work.ua,link=https://www.work.ua/,created_at=2025-08-07 18:03:50.735826,updated_at=2025-08-07 18:03:50.735826>]"
      ]
     },
     "execution_count": 11,
     "metadata": {},
     "output_type": "execute_result"
    }
   ],
   "source": [
    "res\n"
   ]
  },
  {
   "cell_type": "code",
   "execution_count": null,
   "id": "38685051",
   "metadata": {},
   "outputs": [],
   "source": []
  }
 ],
 "metadata": {
  "kernelspec": {
   "display_name": ".venv",
   "language": "python",
   "name": "python3"
  },
  "language_info": {
   "codemirror_mode": {
    "name": "ipython",
    "version": 3
   },
   "file_extension": ".py",
   "mimetype": "text/x-python",
   "name": "python",
   "nbconvert_exporter": "python",
   "pygments_lexer": "ipython3",
   "version": "3.13.5"
  }
 },
 "nbformat": 4,
 "nbformat_minor": 5
}
