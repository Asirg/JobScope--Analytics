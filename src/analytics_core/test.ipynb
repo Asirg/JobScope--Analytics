{
 "cells": [
  {
   "cell_type": "code",
   "execution_count": 2,
   "id": "ebf81af3",
   "metadata": {},
   "outputs": [],
   "source": [
    "import sys\n",
    "import os\n",
    "\n",
    "sys.path.insert(1, os.path.abspath(os.path.join(os.getcwd(), \"..\", \"..\")))\n",
    "\n",
    "from sqlalchemy import text\n",
    "\n",
    "from src.database import async_session"
   ]
  },
  {
   "cell_type": "code",
   "execution_count": 11,
   "id": "597ddb0d",
   "metadata": {},
   "outputs": [
    {
     "name": "stdout",
     "output_type": "stream",
     "text": [
      "2025-08-07 21:27:49,343 INFO sqlalchemy.engine.Engine BEGIN (implicit)\n",
      "2025-08-07 21:27:49,345 INFO sqlalchemy.engine.Engine SELECT * FROM sources\n",
      "2025-08-07 21:27:49,347 INFO sqlalchemy.engine.Engine [cached since 91.18s ago] ()\n",
      "2025-08-07 21:27:49,352 INFO sqlalchemy.engine.Engine ROLLBACK\n"
     ]
    }
   ],
   "source": [
    "async with async_session() as session:\n",
    "    q = \"SELECT * FROM sources\"\n",
    "    res = await session.execute(text(q))\n",
    "    res = res.fetchall()"
   ]
  },
  {
   "cell_type": "code",
   "execution_count": 13,
   "id": "8d354627",
   "metadata": {},
   "outputs": [
    {
     "data": {
      "text/plain": [
       "[(1, 'dou.ua', 'https://dou.ua/', datetime.datetime(2025, 8, 7, 18, 3, 50, 735826), datetime.datetime(2025, 8, 7, 18, 3, 50, 735826)),\n",
       " (2, 'work.ua', 'https://www.work.ua/', datetime.datetime(2025, 8, 7, 18, 3, 50, 735826), datetime.datetime(2025, 8, 7, 18, 3, 50, 735826))]"
      ]
     },
     "execution_count": 13,
     "metadata": {},
     "output_type": "execute_result"
    }
   ],
   "source": [
    "res"
   ]
  },
  {
   "cell_type": "code",
   "execution_count": null,
   "id": "97ecfb93",
   "metadata": {},
   "outputs": [],
   "source": [
    "\n"
   ]
  }
 ],
 "metadata": {
  "kernelspec": {
   "display_name": ".venv",
   "language": "python",
   "name": "python3"
  },
  "language_info": {
   "codemirror_mode": {
    "name": "ipython",
    "version": 3
   },
   "file_extension": ".py",
   "mimetype": "text/x-python",
   "name": "python",
   "nbconvert_exporter": "python",
   "pygments_lexer": "ipython3",
   "version": "3.13.5"
  }
 },
 "nbformat": 4,
 "nbformat_minor": 5
}
